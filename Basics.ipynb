{
 "cells": [
  {
   "cell_type": "code",
   "execution_count": 1,
   "id": "e3c4d4f4",
   "metadata": {},
   "outputs": [],
   "source": [
    "import torch\n",
    "import torch.nn as nn"
   ]
  },
  {
   "cell_type": "code",
   "execution_count": 2,
   "id": "82098ae2",
   "metadata": {},
   "outputs": [
    {
     "name": "stdout",
     "output_type": "stream",
     "text": [
      "tensor([[5., 3., 1., 2.],\n",
      "        [6., 3., 6., 1.]])\n"
     ]
    }
   ],
   "source": [
    "# We want to create a neuron / tensors\n",
    "x = [[5, 3, 1, 2], [6, 3, 6, 1]]\n",
    "x = torch.Tensor(x)\n",
    "\n",
    "print(x)"
   ]
  },
  {
   "cell_type": "code",
   "execution_count": 3,
   "id": "5c128d6e",
   "metadata": {},
   "outputs": [],
   "source": [
    "# Class representing your neural network\n",
    "# 4 (input) --> 3 (hidden layer) --> 2 (hidden layer) --> 1 (output layer)\n",
    "class SinglePerceptron(nn.Module):\n",
    "    def __init__(self):\n",
    "        super().__init__()\n",
    "        self.hidden_layer_1 = nn.Linear(4, 3) # input to first hidden layer\n",
    "        self.hidden_layer_2 = nn.Linear(3, 2)\n",
    "        self.output_layer = nn.Linear(2, 1)\n",
    "        self.activation = nn.Sigmoid()\n",
    "        \n",
    "        #self.multiple_hidden_2x2 = nn.Sequential()\n",
    "        \n",
    "        #for i in range(1000):\n",
    "        #    self.multiple_hidden_2x2.append(nn.Linear(2, 2))\n",
    "        #    self.multiple_hidden_2x2.append(nn.Sigmoid())\n",
    "    \n",
    "    def forward(self, x):\n",
    "        x = self.hidden_layer_1(x)\n",
    "        x = self.activation(x)\n",
    "        \n",
    "        x = self.hidden_layer_2(x)\n",
    "        x = self.activation(x)\n",
    "        \n",
    "        #x = self.multiple_hidden_2x2(x)\n",
    "        \n",
    "        y = self.output_layer(x)\n",
    "        y = self.activation(y)\n",
    "        \n",
    "        return y"
   ]
  },
  {
   "cell_type": "code",
   "execution_count": 4,
   "id": "cfccd25f",
   "metadata": {},
   "outputs": [
    {
     "name": "stdout",
     "output_type": "stream",
     "text": [
      "tensor([[0.4716],\n",
      "        [0.4747]], grad_fn=<SigmoidBackward0>)\n"
     ]
    }
   ],
   "source": [
    "model = SinglePerceptron()\n",
    "\n",
    "# predictions = model(x)\n",
    "predictions = model.forward(x)\n",
    "\n",
    "print(predictions)"
   ]
  },
  {
   "cell_type": "code",
   "execution_count": 5,
   "id": "05349334",
   "metadata": {},
   "outputs": [
    {
     "name": "stdout",
     "output_type": "stream",
     "text": [
      "SinglePerceptron(\n",
      "  (hidden_layer_1): Linear(in_features=4, out_features=3, bias=True)\n",
      "  (hidden_layer_2): Linear(in_features=3, out_features=2, bias=True)\n",
      "  (output_layer): Linear(in_features=2, out_features=1, bias=True)\n",
      "  (activation): Sigmoid()\n",
      ")\n"
     ]
    }
   ],
   "source": [
    "print(model)"
   ]
  },
  {
   "cell_type": "code",
   "execution_count": 6,
   "id": "a01cec48",
   "metadata": {},
   "outputs": [],
   "source": [
    "# Loss function\n",
    "loss_fn = nn.MSELoss()"
   ]
  },
  {
   "cell_type": "code",
   "execution_count": 7,
   "id": "acacd984",
   "metadata": {},
   "outputs": [
    {
     "name": "stdout",
     "output_type": "stream",
     "text": [
      "0.2792503535747528\n",
      "0.22530846297740936\n"
     ]
    }
   ],
   "source": [
    "answer_key = torch.Tensor([[1], [0]])\n",
    "\n",
    "for i in range(len(predictions)):\n",
    "    p = predictions[i]\n",
    "    a = answer_key[i]\n",
    "\n",
    "    loss = loss_fn(p, a)\n",
    "\n",
    "    print(loss.item())"
   ]
  },
  {
   "cell_type": "code",
   "execution_count": 8,
   "id": "8de4221b",
   "metadata": {},
   "outputs": [
    {
     "name": "stdout",
     "output_type": "stream",
     "text": [
      "hidden_layer_1.weight\n",
      "tensor([[ 0.3903, -0.1565,  0.4396,  0.1145],\n",
      "        [ 0.3087, -0.4907, -0.1180,  0.1236],\n",
      "        [ 0.2467,  0.4405, -0.3658, -0.4058]])\n",
      "hidden_layer_1.bias\n",
      "tensor([-0.1666, -0.2307, -0.2697])\n",
      "hidden_layer_2.weight\n",
      "tensor([[-0.5353, -0.0871,  0.1519],\n",
      "        [ 0.1610,  0.1941,  0.3033]])\n",
      "hidden_layer_2.bias\n",
      "tensor([0.0970, 0.1003])\n",
      "output_layer.weight\n",
      "tensor([[-0.4568, -0.1243]])\n",
      "output_layer.bias\n",
      "tensor([0.1595])\n"
     ]
    }
   ],
   "source": [
    "# Examine the parameters\n",
    "num_parameters = 0\n",
    "for name, param in model.named_parameters():\n",
    "    print(name)\n",
    "    print(param.data)\n",
    "    \n",
    "    num_parameters += param.numel()"
   ]
  },
  {
   "cell_type": "code",
   "execution_count": 9,
   "id": "08d2738b",
   "metadata": {},
   "outputs": [
    {
     "name": "stdout",
     "output_type": "stream",
     "text": [
      "Num Parameters: 26\n"
     ]
    }
   ],
   "source": [
    "print(\"Num Parameters: {}\".format(num_parameters))"
   ]
  },
  {
   "cell_type": "code",
   "execution_count": 10,
   "id": "0f09cfef",
   "metadata": {},
   "outputs": [
    {
     "name": "stdout",
     "output_type": "stream",
     "text": [
      "OrderedDict([('hidden_layer_1.weight', tensor([[ 0.3903, -0.1565,  0.4396,  0.1145],\n",
      "        [ 0.3087, -0.4907, -0.1180,  0.1236],\n",
      "        [ 0.2467,  0.4405, -0.3658, -0.4058]])), ('hidden_layer_1.bias', tensor([-0.1666, -0.2307, -0.2697])), ('hidden_layer_2.weight', tensor([[-0.5353, -0.0871,  0.1519],\n",
      "        [ 0.1610,  0.1941,  0.3033]])), ('hidden_layer_2.bias', tensor([0.0970, 0.1003])), ('output_layer.weight', tensor([[-0.4568, -0.1243]])), ('output_layer.bias', tensor([0.1595]))])\n"
     ]
    }
   ],
   "source": [
    "# Check the state of the model as a dictionary\n",
    "print(model.state_dict())"
   ]
  },
  {
   "cell_type": "code",
   "execution_count": 11,
   "id": "3a32f57b",
   "metadata": {},
   "outputs": [],
   "source": [
    "# Declare a dictionary that we want to serialize as .pth file\n",
    "state = { 'state_dict': model.state_dict() }\n",
    "\n",
    "torch.save(state, \"model.pth\")"
   ]
  },
  {
   "cell_type": "code",
   "execution_count": 12,
   "id": "bf5c54b2",
   "metadata": {},
   "outputs": [
    {
     "data": {
      "text/plain": [
       "tensor([[0.4716],\n",
       "        [0.4747]], grad_fn=<SigmoidBackward0>)"
      ]
     },
     "execution_count": 12,
     "metadata": {},
     "output_type": "execute_result"
    }
   ],
   "source": [
    "# Load a model\n",
    "model = SinglePerceptron()\n",
    "\n",
    "state = torch.load(\"model.pth\")\n",
    "\n",
    "model.load_state_dict(state['state_dict'])\n",
    "\n",
    "predictions = model.forward(x)\n",
    "\n",
    "predictions"
   ]
  },
  {
   "cell_type": "code",
   "execution_count": 13,
   "id": "bea63342",
   "metadata": {},
   "outputs": [
    {
     "name": "stdout",
     "output_type": "stream",
     "text": [
      "[[0.47155857]\n",
      " [0.47466668]]\n"
     ]
    }
   ],
   "source": [
    "# Convert a tensor back to a numpy array\n",
    "preds = predictions.detach().cpu().numpy()\n",
    "\n",
    "print(preds)"
   ]
  },
  {
   "cell_type": "code",
   "execution_count": null,
   "id": "bf13240c",
   "metadata": {},
   "outputs": [],
   "source": []
  }
 ],
 "metadata": {
  "kernelspec": {
   "display_name": "Python 3 (ipykernel)",
   "language": "python",
   "name": "python3"
  },
  "language_info": {
   "codemirror_mode": {
    "name": "ipython",
    "version": 3
   },
   "file_extension": ".py",
   "mimetype": "text/x-python",
   "name": "python",
   "nbconvert_exporter": "python",
   "pygments_lexer": "ipython3",
   "version": "3.10.7"
  }
 },
 "nbformat": 4,
 "nbformat_minor": 5
}
